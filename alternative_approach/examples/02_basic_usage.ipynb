{
 "cells": [
  {
   "cell_type": "code",
   "execution_count": 4,
   "metadata": {},
   "outputs": [],
   "source": [
    "from mpcrl import *\n",
    "from WindGym import WindFarmEnv\n",
    "from mpcrl import make_config\n",
    "from typing import Any, Dict, Optional, Union\n",
    "import gymnasium as gym\n",
    "from py_wake.examples.data.hornsrev1 import V80\n",
    "import numpy as np"
   ]
  },
  {
   "cell_type": "code",
   "execution_count": 5,
   "metadata": {},
   "outputs": [],
   "source": [
    "class MPCenv(WindFarmEnv):\n",
    "    \"\"\"\n",
    "    Wind Farm Environment with MPC controller.\n",
    "    \"\"\"\n",
    "\n",
    "    def __init__(self, **kwargs):\n",
    "        super().__init__(**kwargs)\n",
    "\n",
    "    def reset(self, seed: Optional[int] = None, options: Optional[dict] = None):\n",
    "        \n",
    "        obs, info = super().reset(seed=seed, options=options)\n",
    "\n",
    "        self.USE_VARIABLE_HORIZON = True   # Use variable prediction horizon (paper's approach)\n",
    "        self.USE_TIME_SHIFTED = True      # Use time-shifted cost function (paper's best)\n",
    "        self.APPLY_YAW_PENALTY = True      # Use Equation 5 penalty for large yaw angles\n",
    "\n",
    "        self.mpc_model = WindFarmModel(self.x_pos, self.y_pos, D=self.D, \n",
    "                                       wt=self.turbine,\n",
    "                                       cache_size=64000, \n",
    "                                       cache_quant=0.25, wind_quant=0.25,\n",
    "                                       apply_yaw_penalty=self.APPLY_YAW_PENALTY)\n",
    "        self.previous_opt_params = None\n",
    "        return obs, info\n",
    "\n",
    "    def step(self, action):\n",
    "\n",
    "        # Step 1: update the MPC model with the current state\n",
    "        estimated_wd = action[0]\n",
    "        estimated_ws = action[1]\n",
    "        estimated_TI = action[2]\n",
    "        # TODO: Should we use _scaling_ or _inflow_, or maybe something else? \n",
    "        # The estimates are all from -1 to 1, we need to convert them back to the original range\n",
    "        estimated_wd = (estimated_wd + 1) / 2 * (self.wd_scaling_max - self.wd_scaling_min) + self.wd_scaling_min\n",
    "        estimated_ws = (estimated_ws + 1) / 2 * (self.ws_scaling_max - self.ws_scaling_min) + self.ws_scaling_min\n",
    "        estimated_TI = (estimated_TI + 1) / 2 * (self.ti_scaling_max - self.ti_scaling_min) + self.ti_scaling_min\n",
    "\n",
    "        self.mpc_model.update_conditions(U_inf=estimated_ws, TI=estimated_TI, wd=estimated_wd)\n",
    "        \n",
    "        current_yaws_orig = self.current_yaw.copy()\n",
    "        current_yaws_sorted = current_yaws_orig[self.mpc_model.sorted_indices]   \n",
    "\n",
    "\n",
    "        # Step 2: optimize the yaw angles\n",
    "        optimized_params = optimize_farm_back2front(\n",
    "            self.mpc_model, current_yaws_sorted, \n",
    "            r_gamma=0.3, # yaw rate (deg/s)\n",
    "            t_AH=100.0,  # action horizon (s)\n",
    "            dt_opt=10.0,  # optimization time step (s)\n",
    "            T_opt=500.0,  # prediction horizon (s)\n",
    "            maxfun=50,\n",
    "            seed=42,\n",
    "            initial_params=self.previous_opt_params\n",
    "        )\n",
    "\n",
    "        self.previous_opt_params = optimized_params.copy()\n",
    "\n",
    "\n",
    "        dt_mpc = 60 # MPC control interval (s)\n",
    "        t_action, trajectories, _ = run_farm_delay_loop_optimized(\n",
    "            self.mpc_model, optimized_params, current_yaws_sorted, \n",
    "            r_gamma=0.3, t_AH=100.0, dt=dt_mpc, T=dt_mpc\n",
    "        )\n",
    "\n",
    "        next_yaws_sorted = np.array([traj[-1] for traj in trajectories])\n",
    "        next_yaws_orig = next_yaws_sorted[self.mpc_model.unsorted_indices]\n",
    "\n",
    "        # The action should then be:\n",
    "        yaw_action = (next_yaws_orig - self.yaw_min) / (self.yaw_max - self.yaw_min) * 2 - 1\n",
    "\n",
    "        # Do the env step:\n",
    "        obs, reward, done, truncated, info = super().step(yaw_action) \n",
    "\n",
    "        if truncated:\n",
    "            self.mpc_model.cache_clear()\n",
    "\n",
    "        # Add the estimated conditions to the info dict\n",
    "        info['estimated_wd'] = estimated_wd\n",
    "        info['estimated_ws'] = estimated_ws\n",
    "        info['estimated_TI'] = estimated_TI\n",
    "\n",
    "        return obs, reward, done, truncated, info\n",
    "    \n",
    "    def _init_spaces(self):\n",
    "        \"\"\"\n",
    "        This function initializes the observation and action spaces.\n",
    "        This is done in a seperate function, so we can replace it in the multi agent version of the environment\n",
    "        \"\"\"\n",
    "        self.observation_space = gym.spaces.Box(\n",
    "            low=-1.0, high=1.0, shape=((self.obs_var),), dtype=np.float32\n",
    "        )\n",
    "        self.action_space = gym.spaces.Box(\n",
    "            low=-1, high=1, shape=((3),), dtype=np.float32\n",
    "        )    \n",
    "    "
   ]
  },
  {
   "cell_type": "code",
   "execution_count": 6,
   "metadata": {},
   "outputs": [
    {
     "name": "stdout",
     "output_type": "stream",
     "text": [
      "Steady state steps: 6.0\n"
     ]
    }
   ],
   "source": [
    "env = MPCenv(config=make_config(),\n",
    "                turbine=V80(),  # e.g., IEA37/DTU10MW WT from PyWake\n",
    "                x_pos=np.array([0, 400, 800]),  # x positions of the turbines\n",
    "                y_pos=np.array([0, 0, 0]),      # y positions of the turbines\n",
    "                ws_scaling_min=5, ws_scaling_max=15,  # wind speed scaling\n",
    "                wd_scaling_min=250, wd_scaling_max=290,  # wind direction scaling\n",
    "                TI_scaling_min=0.00, TI_scaling_max=0.15,  # turbulence intensity scaling\n",
    "                turbtype=\"None\",\n",
    "                dt_env=60,\n",
    "                dt_sim=10,\n",
    "                yaw_step_sim=10*0.3,  # 10 sim step * 0.3 (yaw actuation time)\n",
    "                yaw_init='Zeros',\n",
    "                )"
   ]
  },
  {
   "cell_type": "code",
   "execution_count": 7,
   "metadata": {},
   "outputs": [
    {
     "name": "stdout",
     "output_type": "stream",
     "text": [
      "Steady state steps: 7.0\n"
     ]
    }
   ],
   "source": [
    "obs, info = env.reset()"
   ]
  },
  {
   "cell_type": "code",
   "execution_count": 8,
   "metadata": {},
   "outputs": [
    {
     "data": {
      "image/png": "[encoded data removed]",
      "text/plain": [
       "<Figure size 640x480 with 1 Axes>"
      ]
     },
     "metadata": {},
     "output_type": "display_data"
    }
   ],
   "source": [
    "env.plot_farm()"
   ]
  },
  {
   "cell_type": "code",
   "execution_count": 9,
   "metadata": {},
   "outputs": [],
   "source": [
    "obs, reward, terminated, truncated,  info = env.step(env.action_space.sample())"
   ]
  },
  {
   "cell_type": "code",
   "execution_count": 10,
   "metadata": {},
   "outputs": [
    {
     "data": {
      "text/plain": [
       "(np.float32(0.3931676), np.float32(6.561784), np.float32(251.72142))"
      ]
     },
     "execution_count": 10,
     "metadata": {},
     "output_type": "execute_result"
    }
   ],
   "source": [
    "info[\"estimated_TI\"], info[\"estimated_ws\"], info[\"estimated_wd\"]"
   ]
  },
  {
   "cell_type": "code",
   "execution_count": 11,
   "metadata": {},
   "outputs": [
    {
     "data": {
      "text/plain": [
       "10"
      ]
     },
     "execution_count": 11,
     "metadata": {},
     "output_type": "execute_result"
    }
   ],
   "source": [
    "env.dt_sim"
   ]
  }
 ],
 "metadata": {
  "kernelspec": {
   "display_name": "testenv",
   "language": "python",
   "name": "python3"
  },
  "language_info": {
   "codemirror_mode": {
    "name": "ipython",
    "version": 3
   },
   "file_extension": ".py",
   "mimetype": "text/x-python",
   "name": "python",
   "nbconvert_exporter": "python",
   "pygments_lexer": "ipython3",
   "version": "3.13.2"
  }
 },
 "nbformat": 4,
 "nbformat_minor": 2
}
